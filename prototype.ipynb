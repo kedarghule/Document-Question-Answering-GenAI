{
 "cells": [
  {
   "cell_type": "markdown",
   "id": "28c95b4f",
   "metadata": {},
   "source": [
    "## Prototype for Document Question Answering Using Llama and LangChain\n",
    "\n",
    "Importing the packages and setting the model path"
   ]
  },
  {
   "cell_type": "code",
   "execution_count": 1,
   "id": "b94ddae0",
   "metadata": {},
   "outputs": [],
   "source": [
    "from llama_cpp import Llama\n",
    "from langchain import PromptTemplate\n",
    "from langchain.llms import LlamaCpp\n",
    "from langchain import PromptTemplate\n",
    "from langchain.chains import LLMChain\n",
    "from langchain.document_loaders import TextLoader\n",
    "from langchain.text_splitter import CharacterTextSplitter\n",
    "from langchain.vectorstores import Chroma\n",
    "\n",
    "\n",
    "MODEL_PATH = \"./models/llama-7b.ggmlv3.q4_K_M.bin\"\n"
   ]
  },
  {
   "cell_type": "markdown",
   "id": "bc664e4a",
   "metadata": {},
   "source": [
    "Initializing Llama and loading the document on which question answering is to be performed. `TextLoader` is used for .txt files."
   ]
  },
  {
   "cell_type": "code",
   "execution_count": 2,
   "id": "f76d70ba",
   "metadata": {},
   "outputs": [
    {
     "name": "stderr",
     "output_type": "stream",
     "text": [
      "AVX = 1 | AVX2 = 1 | AVX512 = 0 | AVX512_VBMI = 0 | AVX512_VNNI = 0 | FMA = 1 | NEON = 0 | ARM_FMA = 0 | F16C = 1 | FP16_VA = 0 | WASM_SIMD = 0 | BLAS = 0 | SSE3 = 1 | VSX = 0 | \n"
     ]
    }
   ],
   "source": [
    "llm = LlamaCpp(model_path=MODEL_PATH)\n",
    "loader = TextLoader(\"./docs/sample_input.txt\")\n",
    "docs = loader.load()"
   ]
  },
  {
   "cell_type": "markdown",
   "id": "fa950f18",
   "metadata": {},
   "source": [
    "Transforming the document by breaking it into smaller chunks using `TextSplitter`. It separates the document at the '\\n\\n' separator. However, if we set the separator to null and define a specific chunk size, each chunk will be of that specified length. Consequently, the resulting list length will be equal to the length of the document divided by the chunk size. In summary, it will resemble something like this: list length = length of doc / chunk size.\n"
   ]
  },
  {
   "cell_type": "code",
   "execution_count": 3,
   "id": "de6751f7",
   "metadata": {},
   "outputs": [
    {
     "name": "stderr",
     "output_type": "stream",
     "text": [
      "Created a chunk of size 251, which is longer than the specified 10\n",
      "Created a chunk of size 425, which is longer than the specified 10\n",
      "Created a chunk of size 327, which is longer than the specified 10\n",
      "Created a chunk of size 313, which is longer than the specified 10\n",
      "Created a chunk of size 371, which is longer than the specified 10\n"
     ]
    },
    {
     "data": {
      "text/plain": [
       "[Document(page_content='Batman is a popular fictional superhero who first appeared in comic books published by DC Comics in 1939. Created by writer Bill Finger and artist Bob Kane, Batman is known for being a masked vigilante who fights crime in the fictional city of Gotham.', metadata={'source': './docs/sample_input.txt'}),\n",
       " Document(page_content='The character of Batman, also known as Bruce Wayne, witnessed the murder of his parents as a child, which fueled his desire to combat crime and seek justice. Wayne, a billionaire industrialist, uses his wealth and resources to create a secret identity as Batman. He relies on his intelligence, detective skills, martial arts training, and an array of gadgets and technology to fight against criminals and protect Gotham City.', metadata={'source': './docs/sample_input.txt'}),\n",
       " Document(page_content=\"One of Batman's defining characteristics is his lack of superhuman powers. Instead, he relies on his physical prowess, tactical thinking, and gadgets like the Batarang, Batmobile, and Bat-Signal. Batman's costume, designed to strike fear into criminals, includes a bat emblem on his chest, a cape, and a cowl with pointed ears.\", metadata={'source': './docs/sample_input.txt'}),\n",
       " Document(page_content='Throughout his comic book history, Batman has faced a wide range of adversaries, including iconic villains such as the Joker, Catwoman, Two-Face, Penguin, and Bane. He is also a founding member of the superhero team known as the Justice League, alongside other DC Comics characters like Superman and Wonder Woman.', metadata={'source': './docs/sample_input.txt'}),\n",
       " Document(page_content='Batman\\'s popularity extends beyond comic books. The character has been featured in numerous adaptations, including movies, television series, video games, and animated shows. Some notable portrayals of Batman on the big screen include the Tim Burton-directed films of the 1980s and 1990s, Christopher Nolan\\'s \"The Dark Knight\" trilogy, and the DC Extended Universe films.', metadata={'source': './docs/sample_input.txt'}),\n",
       " Document(page_content=\"Batman's dark and brooding nature, complex psychology, and commitment to justice have made him one of the most beloved and enduring superheroes in popular culture. His enduring popularity has allowed him to become a symbol of determination, resourcefulness, and the triumph of justice over evil.\", metadata={'source': './docs/sample_input.txt'})]"
      ]
     },
     "execution_count": 3,
     "metadata": {},
     "output_type": "execute_result"
    }
   ],
   "source": [
    "text_splitter = CharacterTextSplitter(chunk_size=10, chunk_overlap=0)\n",
    "texts = text_splitter.split_documents(docs)\n",
    "texts"
   ]
  },
  {
   "cell_type": "markdown",
   "id": "3f8c75e5",
   "metadata": {},
   "source": [
    "Embedding documents and embedding queries"
   ]
  },
  {
   "cell_type": "code",
   "execution_count": 4,
   "id": "5b8b2961",
   "metadata": {},
   "outputs": [
    {
     "name": "stderr",
     "output_type": "stream",
     "text": [
      "AVX = 1 | AVX2 = 1 | AVX512 = 0 | AVX512_VBMI = 0 | AVX512_VNNI = 0 | FMA = 1 | NEON = 0 | ARM_FMA = 0 | F16C = 1 | FP16_VA = 0 | WASM_SIMD = 0 | BLAS = 0 | SSE3 = 1 | VSX = 0 | \n"
     ]
    },
    {
     "data": {
      "text/plain": [
       "Document(page_content='Batman is a popular fictional superhero who first appeared in comic books published by DC Comics in 1939. Created by writer Bill Finger and artist Bob Kane, Batman is known for being a masked vigilante who fights crime in the fictional city of Gotham.', metadata={'source': './docs/sample_input.txt'})"
      ]
     },
     "execution_count": 4,
     "metadata": {},
     "output_type": "execute_result"
    }
   ],
   "source": [
    "from langchain.embeddings import LlamaCppEmbeddings\n",
    "embeddings = LlamaCppEmbeddings(model_path=MODEL_PATH)\n",
    "_texts = []\n",
    "for i in range(len(texts)):\n",
    "    _texts.append(texts[i].page_content)\n",
    "texts[0]"
   ]
  },
  {
   "cell_type": "code",
   "execution_count": 5,
   "id": "b478741a",
   "metadata": {},
   "outputs": [
    {
     "data": {
      "text/plain": [
       "(6, 4096)"
      ]
     },
     "execution_count": 5,
     "metadata": {},
     "output_type": "execute_result"
    }
   ],
   "source": [
    "embedded_texts = embeddings.embed_documents(_texts)\n",
    "len(embedded_texts), len(embedded_texts[0])"
   ]
  },
  {
   "cell_type": "code",
   "execution_count": 6,
   "id": "68a7eb51",
   "metadata": {},
   "outputs": [
    {
     "data": {
      "text/plain": [
       "[2.635892152786255,\n",
       " -0.2077806144952774,\n",
       " 0.5032820105552673,\n",
       " -4.212489128112793]"
      ]
     },
     "execution_count": 6,
     "metadata": {},
     "output_type": "execute_result"
    }
   ],
   "source": [
    "embedded_texts[0][:4]"
   ]
  },
  {
   "cell_type": "code",
   "execution_count": 7,
   "id": "0a29f143",
   "metadata": {},
   "outputs": [
    {
     "data": {
      "text/plain": [
       "4096"
      ]
     },
     "execution_count": 7,
     "metadata": {},
     "output_type": "execute_result"
    }
   ],
   "source": [
    "query = \"Which city does Batman fight crimes in?\"\n",
    "embedded_query = embeddings.embed_query(query)\n",
    "len(embedded_query)"
   ]
  },
  {
   "cell_type": "markdown",
   "id": "a0646983",
   "metadata": {},
   "source": [
    "Creating a vector store using ChromaDB to store embedded data and to perform vector search operations."
   ]
  },
  {
   "cell_type": "code",
   "execution_count": 8,
   "id": "1ce6b7df",
   "metadata": {},
   "outputs": [
    {
     "data": {
      "text/plain": [
       "[Document(page_content='The character of Batman, also known as Bruce Wayne, witnessed the murder of his parents as a child, which fueled his desire to combat crime and seek justice. Wayne, a billionaire industrialist, uses his wealth and resources to create a secret identity as Batman. He relies on his intelligence, detective skills, martial arts training, and an array of gadgets and technology to fight against criminals and protect Gotham City.', metadata={'source': './docs/sample_input.txt'})]"
      ]
     },
     "execution_count": 8,
     "metadata": {},
     "output_type": "execute_result"
    }
   ],
   "source": [
    "db = Chroma.from_documents(texts, embeddings)\n",
    "query_vector = embeddings.embed_query(query)\n",
    "docs = db.similarity_search_by_vector(query_vector, k=1)\n",
    "docs"
   ]
  },
  {
   "cell_type": "markdown",
   "id": "a1effee6",
   "metadata": {},
   "source": [
    "Giving a prompt to the Llama model."
   ]
  },
  {
   "cell_type": "code",
   "execution_count": 9,
   "id": "1c01f7fe",
   "metadata": {},
   "outputs": [
    {
     "data": {
      "text/plain": [
       "['context', 'question']"
      ]
     },
     "execution_count": 9,
     "metadata": {},
     "output_type": "execute_result"
    }
   ],
   "source": [
    "from langchain.prompts import PromptTemplate\n",
    "\n",
    "template = \"\"\"Use only the following context to answer the question at the end briefly. \n",
    "If you don't know the answer, just say that you don't know, don't try to make up an answer.\n",
    "{context}\n",
    "Q: {question}\n",
    "A:\"\"\"\n",
    "\n",
    "prompt = PromptTemplate.from_template(template)\n",
    "prompt.input_variables"
   ]
  },
  {
   "cell_type": "code",
   "execution_count": 10,
   "id": "eb939869",
   "metadata": {},
   "outputs": [
    {
     "name": "stdout",
     "output_type": "stream",
     "text": [
      "The character of Batman, also known as Bruce Wayne, witnessed the murder of his parents as a child, which fueled his desire to combat crime and seek justice. Wayne, a billionaire industrialist, uses his wealth and resources to create a secret identity as Batman. He relies on his intelligence, detective skills, martial arts training, and an array of gadgets and technology to fight against criminals and protect Gotham City.\n"
     ]
    }
   ],
   "source": [
    "query = \"Which city does Batman fight crimes in?\"\n",
    "similar_doc = db.similarity_search(query, k=1)\n",
    "context = similar_doc[0].page_content\n",
    "print(context)"
   ]
  },
  {
   "cell_type": "code",
   "execution_count": 11,
   "id": "b68304e2",
   "metadata": {},
   "outputs": [
    {
     "name": "stdout",
     "output_type": "stream",
     "text": [
      " Gotham City.\n"
     ]
    }
   ],
   "source": [
    "query_llm = LLMChain(llm=llm, prompt=prompt)\n",
    "response = query_llm.run({\"context\": context, \"question\": query})\n",
    "print(response)"
   ]
  },
  {
   "cell_type": "code",
   "execution_count": 12,
   "id": "449b99e9",
   "metadata": {},
   "outputs": [
    {
     "data": {
      "text/plain": [
       "-1"
      ]
     },
     "execution_count": 12,
     "metadata": {},
     "output_type": "execute_result"
    }
   ],
   "source": [
    "llm.seed"
   ]
  },
  {
   "cell_type": "code",
   "execution_count": null,
   "id": "cebed0d7",
   "metadata": {},
   "outputs": [],
   "source": []
  }
 ],
 "metadata": {
  "kernelspec": {
   "display_name": "Python 3 (ipykernel)",
   "language": "python",
   "name": "python3"
  },
  "language_info": {
   "codemirror_mode": {
    "name": "ipython",
    "version": 3
   },
   "file_extension": ".py",
   "mimetype": "text/x-python",
   "name": "python",
   "nbconvert_exporter": "python",
   "pygments_lexer": "ipython3",
   "version": "3.9.17"
  }
 },
 "nbformat": 4,
 "nbformat_minor": 5
}
