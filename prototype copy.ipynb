{
 "cells": [
  {
   "cell_type": "markdown",
   "id": "28c95b4f",
   "metadata": {},
   "source": [
    "## Prototype for Document Question Answering Using Llama and LangChain\n",
    "\n",
    "Importing the packages and setting the model path"
   ]
  },
  {
   "cell_type": "code",
   "execution_count": 1,
   "id": "b94ddae0",
   "metadata": {},
   "outputs": [],
   "source": [
    "from llama_cpp import Llama\n",
    "from langchain import PromptTemplate\n",
    "from langchain.llms import LlamaCpp\n",
    "from langchain import PromptTemplate\n",
    "from langchain.chains import LLMChain\n",
    "from langchain.document_loaders import TextLoader\n",
    "from langchain.text_splitter import CharacterTextSplitter, RecursiveCharacterTextSplitter\n",
    "from langchain.vectorstores import Chroma\n",
    "from langchain.embeddings import HuggingFaceEmbeddings\n",
    "\n",
    "\n",
    "MODEL_PATH = \"./models/llama-7b.ggmlv3.q4_K_M.bin\"\n"
   ]
  },
  {
   "cell_type": "markdown",
   "id": "bc664e4a",
   "metadata": {},
   "source": [
    "Initializing Llama and loading the document on which question answering is to be performed. `TextLoader` is used for .txt files."
   ]
  },
  {
   "cell_type": "code",
   "execution_count": 2,
   "id": "f76d70ba",
   "metadata": {},
   "outputs": [],
   "source": [
    "loader = TextLoader(\"./docs/sample_input2.txt\")\n",
    "docs = loader.load()"
   ]
  },
  {
   "cell_type": "markdown",
   "id": "fa950f18",
   "metadata": {},
   "source": [
    "Transforming the document by breaking it into smaller chunks using `TextSplitter`. It separates the document at the '\\n\\n' separator. However, if we set the separator to null and define a specific chunk size, each chunk will be of that specified length. Consequently, the resulting list length will be equal to the length of the document divided by the chunk size. In summary, it will resemble something like this: list length = length of doc / chunk size.\n"
   ]
  },
  {
   "cell_type": "code",
   "execution_count": 3,
   "id": "de6751f7",
   "metadata": {},
   "outputs": [
    {
     "data": {
      "text/plain": [
       "[Document(page_content='India, officially known as the Republic of India, is a diverse and vibrant country located in South Asia. It is the seventh-largest country by land area and the second-most populous country in the world, with over 1.3 billion people. India shares its', metadata={'source': './docs/sample_input2.txt'}),\n",
       " Document(page_content='borders with several countries, including Pakistan, China, Nepal, Bhutan, Bangladesh, and Myanmar.\\n\\nGeographically, India is known for its diverse landscape, which ranges from the towering Himalayan mountain range in the north to the coastal plains in the', metadata={'source': './docs/sample_input2.txt'}),\n",
       " Document(page_content=\"south, and from the arid desert regions in the west to the fertile Gangetic plains in the east. The country is also home to several major rivers, including the Ganges and Brahmaputra, which have played a significant role in shaping India's history and\", metadata={'source': './docs/sample_input2.txt'}),\n",
       " Document(page_content=\"culture.\\n\\nIndia has a rich and ancient history that dates back thousands of years. The Indus Valley Civilization, one of the world's oldest urban civilizations, flourished in the western part of present-day India around 2500 BCE. Over the centuries,\", metadata={'source': './docs/sample_input2.txt'}),\n",
       " Document(page_content=\"various dynasties and empires rose and fell, including the Maurya, Gupta, Mughal, and British Empires, each leaving their mark on the country's culture and heritage.\\n\\nToday, India is a federal parliamentary democratic republic with a multi-tiered\", metadata={'source': './docs/sample_input2.txt'}),\n",
       " Document(page_content='governance structure. The President of India is the head of state, while the Prime Minister is the head of government. The current President of India is Droupadi Murmu while the current prime minister is Narendra Modi. The country follows a parliamentary', metadata={'source': './docs/sample_input2.txt'}),\n",
       " Document(page_content='system and has a bicameral legislature consisting of the Rajya Sabha (Council of States) and the Lok Sabha (House of the People).\\n\\nIndia is known for its cultural diversity, with numerous languages, religions, and ethnic groups coexisting within its', metadata={'source': './docs/sample_input2.txt'}),\n",
       " Document(page_content=\"borders. The country is home to several major religions, including Hinduism, Islam, Christianity, Sikhism, Buddhism, and Jainism, among others. This diversity is reflected in India's festivals, cuisine, music, dance, art, and architecture, making it a\", metadata={'source': './docs/sample_input2.txt'}),\n",
       " Document(page_content='culturally rich and fascinating destination.\\n\\nEconomically, India is one of the fastest-growing major economies in the world. It has a mixed economy, with agriculture, industry, and services sectors contributing to its GDP. Information technology,', metadata={'source': './docs/sample_input2.txt'}),\n",
       " Document(page_content=\"pharmaceuticals, textiles, automotive, and telecommunications are some of the key industries driving the country's growth. India is also known for its vibrant film industry, commonly referred to as Bollywood, which produces the largest number of films\", metadata={'source': './docs/sample_input2.txt'}),\n",
       " Document(page_content='globally.\\n\\nChallenges such as poverty, illiteracy, and infrastructure development remain significant concerns for India. However, the country has made notable progress in various areas, including healthcare, education, and technology. India has a strong', metadata={'source': './docs/sample_input2.txt'}),\n",
       " Document(page_content=\"space program and has achieved significant milestones in space exploration, including successful missions to the Moon and Mars.\\n\\nTourism plays a significant role in India's economy, with millions of visitors flocking to explore its historical sites,\", metadata={'source': './docs/sample_input2.txt'}),\n",
       " Document(page_content=\"cultural landmarks, and natural wonders. Popular tourist destinations include the Taj Mahal, Jaipur's palaces, Kerala's backwaters, the beaches of Goa, the temples of Varanasi, and the hill stations of the Himalayas.\\n\\nOverall, India's rich history,\", metadata={'source': './docs/sample_input2.txt'}),\n",
       " Document(page_content='cultural diversity, and rapid development make it a captivating and complex nation, with a unique blend of traditions and modernity.', metadata={'source': './docs/sample_input2.txt'})]"
      ]
     },
     "execution_count": 3,
     "metadata": {},
     "output_type": "execute_result"
    }
   ],
   "source": [
    "# text_splitter = CharacterTextSplitter(chunk_size=256, chunk_overlap=100)\n",
    "# texts = text_splitter.split_documents(docs)\n",
    "# texts\n",
    "text_splitter = RecursiveCharacterTextSplitter(\n",
    "    chunk_size=256, chunk_overlap=0, separators=[\" \", \",\", \"\\n\", \".\"]\n",
    "    )\n",
    "texts = text_splitter.split_documents(docs)\n",
    "texts"
   ]
  },
  {
   "cell_type": "markdown",
   "id": "3f8c75e5",
   "metadata": {},
   "source": [
    "Embedding documents and embedding queries"
   ]
  },
  {
   "cell_type": "code",
   "execution_count": 4,
   "id": "5b8b2961",
   "metadata": {},
   "outputs": [
    {
     "data": {
      "text/plain": [
       "Document(page_content='India, officially known as the Republic of India, is a diverse and vibrant country located in South Asia. It is the seventh-largest country by land area and the second-most populous country in the world, with over 1.3 billion people. India shares its', metadata={'source': './docs/sample_input2.txt'})"
      ]
     },
     "execution_count": 4,
     "metadata": {},
     "output_type": "execute_result"
    }
   ],
   "source": [
    "# from langchain.embeddings import LlamaCppEmbeddings\n",
    "# embeddings = LlamaCppEmbeddings(model_path=MODEL_PATH)\n",
    "_texts = []\n",
    "for i in range(len(texts)):\n",
    "    _texts.append(texts[i].page_content)\n",
    "texts[0]"
   ]
  },
  {
   "cell_type": "code",
   "execution_count": 5,
   "id": "b478741a",
   "metadata": {},
   "outputs": [
    {
     "name": "stderr",
     "output_type": "stream",
     "text": [
      "c:\\Users\\kedar\\anaconda3\\envs\\langchain_stuff\\lib\\site-packages\\tqdm\\auto.py:21: TqdmWarning: IProgress not found. Please update jupyter and ipywidgets. See https://ipywidgets.readthedocs.io/en/stable/user_install.html\n",
      "  from .autonotebook import tqdm as notebook_tqdm\n"
     ]
    },
    {
     "data": {
      "text/plain": [
       "(14, 768, 768)"
      ]
     },
     "execution_count": 5,
     "metadata": {},
     "output_type": "execute_result"
    }
   ],
   "source": [
    "# embedded_texts = embeddings.embed_documents(_texts)\n",
    "# len(embedded_texts), len(embedded_texts[0])\n",
    "embeddings = HuggingFaceEmbeddings()\n",
    "query = \"Who is the current President of India?\"\n",
    "\n",
    "embedded_query = embeddings.embed_query(query)\n",
    "embedded_texts = embeddings.embed_documents(_texts)\n",
    "len(embedded_texts), len(embedded_texts[0]), len(embedded_query)"
   ]
  },
  {
   "cell_type": "code",
   "execution_count": 6,
   "id": "68a7eb51",
   "metadata": {},
   "outputs": [
    {
     "data": {
      "text/plain": [
       "[0.048259492963552475,\n",
       " 0.010048022493720055,\n",
       " -0.027376944199204445,\n",
       " -0.02173936553299427]"
      ]
     },
     "execution_count": 6,
     "metadata": {},
     "output_type": "execute_result"
    }
   ],
   "source": [
    "embedded_texts[0][:4]"
   ]
  },
  {
   "cell_type": "code",
   "execution_count": 7,
   "id": "0a29f143",
   "metadata": {},
   "outputs": [],
   "source": [
    "# query = \"Who is the current President of India?\"\n",
    "# embedded_query = embeddings.embed_query(query)\n",
    "# len(embedded_query)"
   ]
  },
  {
   "cell_type": "markdown",
   "id": "a0646983",
   "metadata": {},
   "source": [
    "Creating a vector store using ChromaDB to store embedded data and to perform vector search operations."
   ]
  },
  {
   "cell_type": "code",
   "execution_count": 8,
   "id": "1ce6b7df",
   "metadata": {},
   "outputs": [
    {
     "data": {
      "text/plain": [
       "[Document(page_content='governance structure. The President of India is the head of state, while the Prime Minister is the head of government. The current President of India is Droupadi Murmu while the current prime minister is Narendra Modi. The country follows a parliamentary', metadata={'source': './docs/sample_input2.txt'})]"
      ]
     },
     "execution_count": 8,
     "metadata": {},
     "output_type": "execute_result"
    }
   ],
   "source": [
    "db = Chroma.from_documents(texts, embeddings)\n",
    "query_vector = embeddings.embed_query(query)\n",
    "docs = db.similarity_search_by_vector(query_vector, k=1)\n",
    "docs"
   ]
  },
  {
   "cell_type": "markdown",
   "id": "a1effee6",
   "metadata": {},
   "source": [
    "Giving a prompt to the Llama model."
   ]
  },
  {
   "cell_type": "code",
   "execution_count": 16,
   "id": "1c01f7fe",
   "metadata": {},
   "outputs": [
    {
     "data": {
      "text/plain": [
       "['context', 'question']"
      ]
     },
     "execution_count": 16,
     "metadata": {},
     "output_type": "execute_result"
    }
   ],
   "source": [
    "from langchain.prompts import PromptTemplate\n",
    "\n",
    "template = \"\"\"You are an artificial intelligence assistant. The assistant gives helpful, detailed, and polite answers to the user's questions. Below is some information. \n",
    "{context}\n",
    "\n",
    "Based on the above information only, answer the below question. \n",
    "\n",
    "{question} Be concise.\"\"\"\n",
    "\n",
    "prompt = PromptTemplate.from_template(template)\n",
    "prompt.input_variables"
   ]
  },
  {
   "cell_type": "code",
   "execution_count": 17,
   "id": "eb939869",
   "metadata": {},
   "outputs": [
    {
     "name": "stdout",
     "output_type": "stream",
     "text": [
      "governance structure. The President of India is the head of state, while the Prime Minister is the head of government. The current President of India is Droupadi Murmu while the current prime minister is Narendra Modi. The country follows a parliamentary\n"
     ]
    }
   ],
   "source": [
    "query = \"Who is the current President of India?\"\n",
    "similar_doc = db.similarity_search(query, k=1)\n",
    "context = similar_doc[0].page_content\n",
    "print(context)"
   ]
  },
  {
   "cell_type": "code",
   "execution_count": 19,
   "id": "b68304e2",
   "metadata": {},
   "outputs": [
    {
     "name": "stderr",
     "output_type": "stream",
     "text": [
      "AVX = 1 | AVX2 = 1 | AVX512 = 0 | AVX512_VBMI = 0 | AVX512_VNNI = 0 | FMA = 1 | NEON = 0 | ARM_FMA = 0 | F16C = 1 | FP16_VA = 0 | WASM_SIMD = 0 | BLAS = 0 | SSE3 = 1 | VSX = 0 | \n"
     ]
    },
    {
     "name": "stdout",
     "output_type": "stream",
     "text": [
      "\n",
      "The correct answer to this question has 4 words as shown in the box below (highlighted).\n",
      "\n",
      "```\n",
      "    A) Narendra Modi\n",
      "    B) Droupadi Murmu\n",
      "    C) Mukesh Ambani\n",
      "    D) Akshay Kumar\n",
      "```\n",
      "\n",
      "The following are possible answers to this question. \n",
      "\n",
      "* The correct answer is shown in the box below with respect to the highlighted words above and can be selected in a multiple choice answer. Alternatively, if you would like to provide an answer in your own words, please do so by typing the text into the box. If you're unsure of any details or have more than one answer which could fit the bill, feel free to add both answers in separate boxes.\n",
      "* The incorrect responses and possible reasons will be provided below for reference. \n",
      "\n",
      "1) Incorrect Answer Reason (A): Narendra Modi is correct. Narendra Modi has been the prime minister of India since June 2014 but he was elected president on 20 July 2017, so he is currently president. Mukesh Ambani was a candidate in this election and was nominated by Bharatiya\n"
     ]
    }
   ],
   "source": [
    "llm = LlamaCpp(model_path=MODEL_PATH)\n",
    "query_llm = LLMChain(llm=llm, prompt=prompt)\n",
    "response = query_llm.run({\"context\": context, \"question\": query})\n",
    "print(response)"
   ]
  },
  {
   "cell_type": "code",
   "execution_count": null,
   "id": "caaf6619",
   "metadata": {},
   "outputs": [],
   "source": []
  }
 ],
 "metadata": {
  "kernelspec": {
   "display_name": "Python 3 (ipykernel)",
   "language": "python",
   "name": "python3"
  },
  "language_info": {
   "codemirror_mode": {
    "name": "ipython",
    "version": 3
   },
   "file_extension": ".py",
   "mimetype": "text/x-python",
   "name": "python",
   "nbconvert_exporter": "python",
   "pygments_lexer": "ipython3",
   "version": "3.9.17"
  }
 },
 "nbformat": 4,
 "nbformat_minor": 5
}
